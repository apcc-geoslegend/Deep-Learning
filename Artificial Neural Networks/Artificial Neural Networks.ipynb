{
 "cells": [
  {
   "cell_type": "markdown",
   "metadata": {},
   "source": [
    "# Artificial Neural Network\n",
    "\n",
    "ToDo: general explanation of neuroscientific aspects of neural networks and a draft explaining synapses, neurons, layers and activation functions.\n",
    "\n",
    "## Efficient Neural Network Learning\n",
    "\n",
    "*Based on Yan LeCun's paper \"Efficient Backpropagation\"*"
   ]
  },
  {
   "cell_type": "code",
   "execution_count": 2,
   "metadata": {
    "collapsed": true
   },
   "outputs": [],
   "source": [
    "import matplotlib.pyplot as plt\n",
    "import numpy as np"
   ]
  },
  {
   "cell_type": "markdown",
   "metadata": {},
   "source": [
    "## Activation Functions"
   ]
  },
  {
   "cell_type": "markdown",
   "metadata": {},
   "source": [
    "*Threshold function*\n",
    "\n",
    "$$\\phi(x)=\\begin{cases} \n",
    "              1 & x\\geq 0 \\\\\n",
    "              0 & x<0 \n",
    "   \\end{cases}$$\n",
    "   \n",
    "*Sigmoid function*\n",
    "\n",
    "$$\\phi(x)=\\frac{1}{1+e^{-x}}$$\n",
    "\n",
    "*Rectifier linear unit*\n",
    "\n",
    "$$\\phi(x)=\\text{max}(x,0)$$\n",
    "\n",
    "*Hyperbolic tangent function*\n",
    "\n",
    "$$\\phi(x)=\\text{tanh}(x)=\\frac{1-e^{-2x}}{1+e^{-2x}}$$"
   ]
  },
  {
   "cell_type": "code",
   "execution_count": 34,
   "metadata": {},
   "outputs": [
    {
     "data": {
      "image/png": "[encoded data removed]",
      "text/plain": [
       "<Figure size 1440x216 with 4 Axes>"
      ]
     },
     "metadata": {},
     "output_type": "display_data"
    }
   ],
   "source": [
    "x = np.arange(-10, 10, 0.01)\n",
    "\n",
    "def threshold(x):\n",
    "    return np.piecewise(x, [x >= 0, x < 0], [1, 0])\n",
    "\n",
    "def sigmoid(x):\n",
    "    return 1/(1+np.exp(-x))\n",
    "\n",
    "def relu(x):\n",
    "    return np.maximum(0, x)\n",
    "\n",
    "def tanh(x):\n",
    "    return np.tanh(x)\n",
    "\n",
    "y_thresh = threshold(x)\n",
    "y_sigmoid = sigmoid(x)\n",
    "y_relu = relu(x)\n",
    "y_tanh = tanh(x)\n",
    "\n",
    "f = plt.figure(figsize=(20,3))\n",
    "ax1 = f.add_subplot(141)\n",
    "ax2 = f.add_subplot(142)\n",
    "ax3 = f.add_subplot(143)\n",
    "ax4 = f.add_subplot(144)\n",
    "\n",
    "ax1.plot(x, y_thresh)\n",
    "ax2.plot(x, y_sigmoid)\n",
    "ax3.plot(x, y_relu)\n",
    "ax4.plot(x, y_tanh)\n",
    "\n",
    "plt.show()"
   ]
  },
  {
   "cell_type": "code",
   "execution_count": 32,
   "metadata": {},
   "outputs": [
    {
     "data": {
      "text/plain": [
       "array([0, 0, 1])"
      ]
     },
     "execution_count": 32,
     "metadata": {},
     "output_type": "execute_result"
    }
   ],
   "source": [
    "np.maximum(0, [-1, 0, 1])"
   ]
  }
 ],
 "metadata": {
  "kernelspec": {
   "display_name": "Python 3",
   "language": "python",
   "name": "python3"
  },
  "language_info": {
   "codemirror_mode": {
    "name": "ipython",
    "version": 3
   },
   "file_extension": ".py",
   "mimetype": "text/x-python",
   "name": "python",
   "nbconvert_exporter": "python",
   "pygments_lexer": "ipython3",
   "version": "3.6.1"
  }
 },
 "nbformat": 4,
 "nbformat_minor": 2
}
