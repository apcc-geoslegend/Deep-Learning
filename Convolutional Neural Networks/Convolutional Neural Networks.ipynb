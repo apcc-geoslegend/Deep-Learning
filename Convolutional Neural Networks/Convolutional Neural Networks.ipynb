{
 "cells": [
  {
   "cell_type": "markdown",
   "metadata": {},
   "source": [
    "# Convolutional Neural Networks\n",
    "\n",
    "### References\n",
    "\n",
    "* http://yann.lecun.com/exdb/publis/pdf/lecun-01a.pdf\n",
    "* https://pdfs.semanticscholar.org/450c/a19932fcef1ca6d0442cbf52fec38fb9d1e5.pdf\n",
    "* https://arxiv.org/pdf/1609.04112.pdf\n",
    "* https://arxiv.org/pdf/1502.01852.pdf\n",
    "* http://ais.uni-bonn.de/papers/icann2010_maxpool.pdf\n",
    "* https://adeshpande3.github.io/adeshpande3.github.io/The-9-Deep-Learning-Papers-You-Need-To-Know-About.html\n",
    "* https://rdipietro.github.io/friendly-intro-to-cross-entropy-loss/\n",
    "* https://peterroelants.github.io/posts/cross-entropy-softmax/\n",
    "\n",
    "ToDo:\n",
    "\n",
    "* What do the different objects and parametrizations in Keras do?\n",
    "  * https://keras.io/layers/convolutional/\n",
    "  * https://keras.io/layers/pooling/\n",
    "  * https://keras.io/preprocessing/image/"
   ]
  },
  {
   "cell_type": "markdown",
   "metadata": {},
   "source": [
    "# Theoretical Foundations\n",
    "\n",
    "## The Convolution Operation\n",
    "\n",
    "ToDo: \n",
    "\n",
    "* Jianxin Wun paper https://pdfs.semanticscholar.org/450c/a19932fcef1ca6d0442cbf52fec38fb9d1e5.pdf\n",
    "* Jay Kuo paper https://arxiv.org/pdf/1609.04112.pdf\n",
    "* Kaiming He paper https://arxiv.org/pdf/1502.01852.pdf\n",
    "\n",
    "$$ (f \\ast g) = \\int_{-\\infty}^{\\infty}f(\\tau)g(t-\\tau)d\\tau $$\n",
    "\n",
    "<img src='resources/cnn-components.png'>\n",
    "\n",
    "## Pooling\n",
    "\n",
    "ToDo:\n",
    "\n",
    "* Dominik Scherer paper http://ais.uni-bonn.de/papers/icann2010_maxpool.pdf\n",
    "\n",
    "Induces *spatial invariance* on the feature map and reduces dimensionality, by keeping the detected features and dropping the image size.\n",
    "\n",
    "## Softmax Activation and Cross-Entropy Loss\n",
    "\n",
    "ToDo:\n",
    "\n",
    "* Rob DiPietro paper https://rdipietro.github.io/friendly-intro-to-cross-entropy-loss/\n",
    "* Peter Roelants paper https://peterroelants.github.io/posts/cross-entropy-softmax/\n",
    "\n",
    "The **softmax function**, or **normalized exponential function**, is a generalization of the logistic function that *\"squashes\"* a $K$-dimensional vector $z$ of arbitrary real values to a $K$-dimensional vector $\\sigma(z)$ of real values, for $K\\geq2$ where each entry is in the interval $(0,1)$ and all the entries add up to $1$.\n",
    "\n",
    "$$ \\sigma_j(z) = \\frac{e^{z_j}}{\\sum_ke^{z_k}} $$\n",
    "\n",
    "Cross entropy:\n",
    "\n",
    "$$ H(p,q) = -\\sum_xp(x)\\log q(x) $$\n",
    "\n",
    "## The Convolutional Neural Network Process\n",
    "\n",
    "ToDo:\n",
    "\n",
    "* Adit Deshpande paper https://adeshpande3.github.io/adeshpande3.github.io/The-9-Deep-Learning-Papers-You-Need-To-Know-About.html\n",
    "\n",
    "---\n",
    "\n",
    "1. Transform the input image into a matrix of pixel intensities.\n",
    "2. Apply a set of filters or feature detectors with their respective activations (usually ReLU or Leaky ReLU).\n",
    "3. Apply a pooling operation to induce spatial invariance and reduce dimensionality.\n",
    "4. Repeat steps 2 and 3 to keep obtaining features.\n",
    "5. Flatten the pooled feature maps.\n",
    "6. Input the flattened feature map into a fully connected neural network to be used on regression or classification tasks.\n",
    "7. Backpropagate errors."
   ]
  },
  {
   "cell_type": "markdown",
   "metadata": {},
   "source": [
    "# Image Augmentation\n",
    "\n",
    "The data (images) directory is structured in the following way:\n",
    "\n",
    "* data\n",
    "  * train\n",
    "    * cats\n",
    "    * dogs\n",
    "  * test\n",
    "    * cats\n",
    "    * dogs\n",
    "\n",
    "Image augmentation is a process in which sources images are transformed in order to prevent overfitting. These transformations are processed in batches, where each batch applies a specific transformation to the set of images (rotation, shifting, flipping, shearing), giving more diversity in the training set."
   ]
  },
  {
   "cell_type": "code",
   "execution_count": 5,
   "metadata": {},
   "outputs": [
    {
     "name": "stdout",
     "output_type": "stream",
     "text": [
      "Found 7882 images belonging to 2 classes.\n",
      "Found 2000 images belonging to 2 classes.\n"
     ]
    }
   ],
   "source": [
    "#Image preprocessing and augmentation\n",
    "from keras.preprocessing.image import ImageDataGenerator\n",
    "\n",
    "train_datagen = ImageDataGenerator(rescale=1./255, #rescales pixel values from 0-255 to 0-1\n",
    "                                   shear_range=0.2,\n",
    "                                   zoom_range=0.2,\n",
    "                                   horizontal_flip=True)\n",
    "\n",
    "test_datagen = ImageDataGenerator(rescale=1./255)\n",
    "\n",
    "training_set_generator = train_datagen.flow_from_directory('data/training_set',\n",
    "                                                           target_size=(64, 64),\n",
    "                                                           batch_size=32,\n",
    "                                                           class_mode='binary')\n",
    "\n",
    "test_set_generator = test_datagen.flow_from_directory('data/test_set',\n",
    "                                                      target_size=(64, 64),\n",
    "                                                      batch_size=32,\n",
    "                                                      class_mode='binary')"
   ]
  },
  {
   "cell_type": "markdown",
   "metadata": {},
   "source": [
    "# Convolutional Neural Networks in Keras"
   ]
  },
  {
   "cell_type": "code",
   "execution_count": 12,
   "metadata": {
    "scrolled": true
   },
   "outputs": [
    {
     "name": "stdout",
     "output_type": "stream",
     "text": [
      "Epoch 1/25\n",
      "247/247 [==============================] - 78s 316ms/step - loss: 0.6561 - binary_accuracy: 0.6288 - val_loss: 0.5818 - val_binary_accuracy: 0.7045\n",
      "Epoch 2/25\n",
      "247/247 [==============================] - 100s 405ms/step - loss: 0.5778 - binary_accuracy: 0.6927 - val_loss: 0.5772 - val_binary_accuracy: 0.6985\n",
      "Epoch 3/25\n",
      "247/247 [==============================] - 107s 433ms/step - loss: 0.5571 - binary_accuracy: 0.7061 - val_loss: 0.5907 - val_binary_accuracy: 0.6895\n",
      "Epoch 4/25\n",
      "247/247 [==============================] - 103s 416ms/step - loss: 0.5208 - binary_accuracy: 0.7435 - val_loss: 0.5532 - val_binary_accuracy: 0.7215\n",
      "Epoch 5/25\n",
      "247/247 [==============================] - 99s 402ms/step - loss: 0.5035 - binary_accuracy: 0.7546 - val_loss: 0.5739 - val_binary_accuracy: 0.7215\n",
      "Epoch 6/25\n",
      "247/247 [==============================] - 97s 394ms/step - loss: 0.4902 - binary_accuracy: 0.7524 - val_loss: 0.5389 - val_binary_accuracy: 0.7555\n",
      "Epoch 7/25\n",
      "247/247 [==============================] - 108s 437ms/step - loss: 0.4903 - binary_accuracy: 0.7582 - val_loss: 0.5138 - val_binary_accuracy: 0.7605\n",
      "Epoch 8/25\n",
      "247/247 [==============================] - 90s 364ms/step - loss: 0.4684 - binary_accuracy: 0.7757 - val_loss: 0.5532 - val_binary_accuracy: 0.7240\n",
      "Epoch 9/25\n",
      "247/247 [==============================] - 87s 351ms/step - loss: 0.4450 - binary_accuracy: 0.7888 - val_loss: 0.5389 - val_binary_accuracy: 0.7580\n",
      "Epoch 10/25\n",
      "247/247 [==============================] - 102s 412ms/step - loss: 0.4330 - binary_accuracy: 0.7997 - val_loss: 0.5442 - val_binary_accuracy: 0.7540\n",
      "Epoch 11/25\n",
      "247/247 [==============================] - 101s 411ms/step - loss: 0.4185 - binary_accuracy: 0.8030 - val_loss: 0.5623 - val_binary_accuracy: 0.7675\n",
      "Epoch 12/25\n",
      "247/247 [==============================] - 101s 407ms/step - loss: 0.4076 - binary_accuracy: 0.8090 - val_loss: 0.5233 - val_binary_accuracy: 0.7720\n",
      "Epoch 13/25\n",
      "247/247 [==============================] - 103s 417ms/step - loss: 0.3879 - binary_accuracy: 0.8243 - val_loss: 0.6159 - val_binary_accuracy: 0.7610\n",
      "Epoch 14/25\n",
      "247/247 [==============================] - 89s 358ms/step - loss: 0.3731 - binary_accuracy: 0.8339 - val_loss: 0.5387 - val_binary_accuracy: 0.7720\n",
      "Epoch 15/25\n",
      "247/247 [==============================] - 80s 325ms/step - loss: 0.3682 - binary_accuracy: 0.8345 - val_loss: 0.5492 - val_binary_accuracy: 0.7550\n",
      "Epoch 16/25\n",
      "247/247 [==============================] - 80s 326ms/step - loss: 0.3559 - binary_accuracy: 0.8427 - val_loss: 0.5917 - val_binary_accuracy: 0.7645\n",
      "Epoch 17/25\n",
      "247/247 [==============================] - 81s 326ms/step - loss: 0.3405 - binary_accuracy: 0.8489 - val_loss: 0.5880 - val_binary_accuracy: 0.7615\n",
      "Epoch 18/25\n",
      "247/247 [==============================] - 80s 323ms/step - loss: 0.3266 - binary_accuracy: 0.8566 - val_loss: 0.5990 - val_binary_accuracy: 0.7640\n",
      "Epoch 19/25\n",
      "247/247 [==============================] - 73s 296ms/step - loss: 0.3188 - binary_accuracy: 0.8615 - val_loss: 0.5977 - val_binary_accuracy: 0.7675\n",
      "Epoch 20/25\n",
      "247/247 [==============================] - 78s 317ms/step - loss: 0.2993 - binary_accuracy: 0.8700 - val_loss: 0.5902 - val_binary_accuracy: 0.7505\n",
      "Epoch 21/25\n",
      "247/247 [==============================] - 76s 309ms/step - loss: 0.2858 - binary_accuracy: 0.8773 - val_loss: 0.6757 - val_binary_accuracy: 0.7460\n",
      "Epoch 22/25\n",
      "247/247 [==============================] - 76s 308ms/step - loss: 0.2858 - binary_accuracy: 0.8788 - val_loss: 0.6272 - val_binary_accuracy: 0.7590\n",
      "Epoch 23/25\n",
      "247/247 [==============================] - 80s 323ms/step - loss: 0.2632 - binary_accuracy: 0.8904 - val_loss: 0.6911 - val_binary_accuracy: 0.7595\n",
      "Epoch 24/25\n",
      "247/247 [==============================] - 76s 307ms/step - loss: 0.2466 - binary_accuracy: 0.9015 - val_loss: 0.7625 - val_binary_accuracy: 0.7505\n",
      "Epoch 25/25\n",
      "247/247 [==============================] - 75s 305ms/step - loss: 0.2505 - binary_accuracy: 0.8927 - val_loss: 0.8697 - val_binary_accuracy: 0.7230\n"
     ]
    },
    {
     "data": {
      "text/plain": [
       "<keras.callbacks.History at 0x1a7c2728dd8>"
      ]
     },
     "execution_count": 12,
     "metadata": {},
     "output_type": "execute_result"
    }
   ],
   "source": [
    "#Just give me the code\n",
    "from keras.models import Sequential\n",
    "from keras.layers import Conv2D, MaxPool2D, Flatten, Dense\n",
    "\n",
    "cnn = Sequential()\n",
    "cnn.add(Conv2D(filters=32, kernel_size=(3,3), strides=(1,1), activation='relu', input_shape=(64, 64, 3)))\n",
    "cnn.add(MaxPool2D(pool_size=(2,2)))\n",
    "cnn.add(Flatten())\n",
    "cnn.add(Dense(units=128, activation='relu'))\n",
    "cnn.add(Dense(units=1, activation='sigmoid'))\n",
    "\n",
    "cnn.compile(optimizer='adam', loss='binary_crossentropy', metrics=['binary_accuracy'])\n",
    "\n",
    "cnn.fit_generator(training_set_generator, epochs=25, validation_data=test_set_generator)"
   ]
  },
  {
   "cell_type": "code",
   "execution_count": 14,
   "metadata": {},
   "outputs": [
    {
     "data": {
      "text/plain": [
       "['models/cnn.joblib']"
      ]
     },
     "execution_count": 14,
     "metadata": {},
     "output_type": "execute_result"
    }
   ],
   "source": [
    "from joblib import dump\n",
    "\n",
    "dump(cnn, 'models/cnn.joblib')"
   ]
  },
  {
   "cell_type": "code",
   "execution_count": null,
   "metadata": {
    "collapsed": true
   },
   "outputs": [],
   "source": [
    "#Let's try the model on my cat's picture\n",
    "import numpy as np\n",
    "import matplotlib.pyplot as plt\n",
    "from keras.preprocessing import image\n",
    "\n",
    "#import cat image\n",
    "test_image = image.load_img('data/new_image.jpg', target_size=(64, 64)) #image 64x64\n",
    "test_image = image.img_to_array(test_image) #tensor 64x64x3\n",
    "test_image = np.expand_dims(test_image, axis=0) #tensor 1x64x64x3, Keras CNN requires a batch of images instead of a single one\n",
    "\n",
    "#plot image\n",
    "\n",
    "#classify\n",
    "result = cnn.predict(test_image)\n",
    "\n",
    "training_set_generator.class_indices\n",
    "\n",
    "if result[0][0] == 1:\n",
    "    prediction = 'dog'\n",
    "else:\n",
    "    prediction = 'cat'"
   ]
  },
  {
   "cell_type": "markdown",
   "metadata": {},
   "source": [
    "ToDo:\n",
    "\n",
    "* Use the ANN Framework to compare models with different hyperparameters\n",
    "* Create a Framework that allows you to see the filters learned by the CNN, understanding filters learned in deep networks.\n",
    "* Create a Framework that allows you to understand how feature maps change under certain transformations:\n",
    "  * Kernel size\n",
    "  * Stride\n",
    "  * Activation\n",
    "  * Pool size\n",
    "  * Pool size striding\n",
    "* Explore the image augmentation features. What happens to images under each transformation?"
   ]
  }
 ],
 "metadata": {
  "kernelspec": {
   "display_name": "Python 3",
   "language": "python",
   "name": "python3"
  },
  "language_info": {
   "codemirror_mode": {
    "name": "ipython",
    "version": 3
   },
   "file_extension": ".py",
   "mimetype": "text/x-python",
   "name": "python",
   "nbconvert_exporter": "python",
   "pygments_lexer": "ipython3",
   "version": "3.6.6"
  }
 },
 "nbformat": 4,
 "nbformat_minor": 2
}
